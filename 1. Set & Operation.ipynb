{
 "cells": [
  {
   "cell_type": "markdown",
   "id": "f99904ed",
   "metadata": {},
   "source": [
    "### Set"
   ]
  },
  {
   "cell_type": "code",
   "execution_count": 1,
   "id": "5ea87157",
   "metadata": {},
   "outputs": [
    {
     "data": {
      "text/plain": [
       "{}"
      ]
     },
     "execution_count": 1,
     "metadata": {},
     "output_type": "execute_result"
    }
   ],
   "source": [
    "empty_set = {}\n",
    "empty_set"
   ]
  },
  {
   "cell_type": "code",
   "execution_count": 2,
   "id": "2af193be",
   "metadata": {},
   "outputs": [
    {
     "data": {
      "text/plain": [
       "{'a', 'b', 'c'}"
      ]
     },
     "execution_count": 2,
     "metadata": {},
     "output_type": "execute_result"
    }
   ],
   "source": [
    "my_set = {'a' , 'b', 'c'}\n",
    "my_set"
   ]
  },
  {
   "cell_type": "code",
   "execution_count": 3,
   "id": "4885f78a",
   "metadata": {},
   "outputs": [
    {
     "data": {
      "text/plain": [
       "{'a', 'b', 'c'}"
      ]
     },
     "execution_count": 3,
     "metadata": {},
     "output_type": "execute_result"
    }
   ],
   "source": [
    "my_set = {'a' , 'b', 'c', 'a' , 'b', 'c'}   # set elements are duplicate and removed automatically\n",
    "my_set"
   ]
  },
  {
   "cell_type": "code",
   "execution_count": 5,
   "id": "c1c160b1",
   "metadata": {},
   "outputs": [
    {
     "data": {
      "text/plain": [
       "{1.1, '2', 3, True, 'a', 'b', 'c'}"
      ]
     },
     "execution_count": 5,
     "metadata": {},
     "output_type": "execute_result"
    }
   ],
   "source": [
    "my_mixed_set = {True, 'a', \"2\", 'b', 3, 'c', 1.1, 1} \n",
    "my_mixed_set"
   ]
  },
  {
   "cell_type": "code",
   "execution_count": 6,
   "id": "8d4a2c7b",
   "metadata": {},
   "outputs": [],
   "source": [
    "my_mixed_set = {True, 1, False}"
   ]
  },
  {
   "cell_type": "code",
   "execution_count": 7,
   "id": "c39a6bc6",
   "metadata": {},
   "outputs": [
    {
     "data": {
      "text/plain": [
       "{False, True}"
      ]
     },
     "execution_count": 7,
     "metadata": {},
     "output_type": "execute_result"
    }
   ],
   "source": [
    "my_mixed_set "
   ]
  },
  {
   "cell_type": "code",
   "execution_count": 8,
   "id": "b11e4541",
   "metadata": {},
   "outputs": [
    {
     "data": {
      "text/plain": [
       "set"
      ]
     },
     "execution_count": 8,
     "metadata": {},
     "output_type": "execute_result"
    }
   ],
   "source": [
    "type(my_set)"
   ]
  },
  {
   "cell_type": "code",
   "execution_count": 9,
   "id": "fa729473",
   "metadata": {},
   "outputs": [
    {
     "data": {
      "text/plain": [
       "2"
      ]
     },
     "execution_count": 9,
     "metadata": {},
     "output_type": "execute_result"
    }
   ],
   "source": [
    "len(my_mixed_set)"
   ]
  },
  {
   "cell_type": "code",
   "execution_count": 10,
   "id": "fbc1a260",
   "metadata": {},
   "outputs": [
    {
     "ename": "TypeError",
     "evalue": "'set' object is not subscriptable",
     "output_type": "error",
     "traceback": [
      "\u001b[1;31m---------------------------------------------------------------------------\u001b[0m",
      "\u001b[1;31mTypeError\u001b[0m                                 Traceback (most recent call last)",
      "Cell \u001b[1;32mIn[10], line 1\u001b[0m\n\u001b[1;32m----> 1\u001b[0m my_set[\u001b[38;5;241m0\u001b[39m]\n",
      "\u001b[1;31mTypeError\u001b[0m: 'set' object is not subscriptable"
     ]
    }
   ],
   "source": [
    "my_set[0]"
   ]
  },
  {
   "cell_type": "code",
   "execution_count": 11,
   "id": "84b17bf9",
   "metadata": {},
   "outputs": [
    {
     "ename": "TypeError",
     "evalue": "'set' object is not subscriptable",
     "output_type": "error",
     "traceback": [
      "\u001b[1;31m---------------------------------------------------------------------------\u001b[0m",
      "\u001b[1;31mTypeError\u001b[0m                                 Traceback (most recent call last)",
      "Cell \u001b[1;32mIn[11], line 1\u001b[0m\n\u001b[1;32m----> 1\u001b[0m my_set[:]\n",
      "\u001b[1;31mTypeError\u001b[0m: 'set' object is not subscriptable"
     ]
    }
   ],
   "source": [
    "my_set[:]"
   ]
  },
  {
   "cell_type": "code",
   "execution_count": 12,
   "id": "de0feb20",
   "metadata": {},
   "outputs": [
    {
     "ename": "TypeError",
     "evalue": "'set' object does not support item assignment",
     "output_type": "error",
     "traceback": [
      "\u001b[1;31m---------------------------------------------------------------------------\u001b[0m",
      "\u001b[1;31mTypeError\u001b[0m                                 Traceback (most recent call last)",
      "Cell \u001b[1;32mIn[12], line 1\u001b[0m\n\u001b[1;32m----> 1\u001b[0m my_set[\u001b[38;5;241m0\u001b[39m] \u001b[38;5;241m=\u001b[39m \u001b[38;5;124m\"\u001b[39m\u001b[38;5;124mA\u001b[39m\u001b[38;5;124m\"\u001b[39m\n",
      "\u001b[1;31mTypeError\u001b[0m: 'set' object does not support item assignment"
     ]
    }
   ],
   "source": [
    "my_set[0] = \"A\""
   ]
  },
  {
   "cell_type": "code",
   "execution_count": 13,
   "id": "caa09a03",
   "metadata": {},
   "outputs": [
    {
     "name": "stdout",
     "output_type": "stream",
     "text": [
      "{'mumbai', 'solapur', 'pune'}\n",
      "<class 'set'>\n"
     ]
    }
   ],
   "source": [
    "my_set = {'mumbai', 'pune', 'solapur'}  #create a set of cities\n",
    "print(my_set)\n",
    "print(type(my_set))"
   ]
  },
  {
   "cell_type": "code",
   "execution_count": 14,
   "id": "4d65218b",
   "metadata": {},
   "outputs": [
    {
     "name": "stdout",
     "output_type": "stream",
     "text": [
      "['mumbai', 'solapur', 'pune']\n",
      "<class 'list'>\n"
     ]
    }
   ],
   "source": [
    "my_new_list = list(my_set) # use list() to convert a set into list\n",
    "print(my_new_list)\n",
    "print(type(my_new_list))"
   ]
  },
  {
   "cell_type": "code",
   "execution_count": 15,
   "id": "fdf661f7",
   "metadata": {},
   "outputs": [
    {
     "data": {
      "text/plain": [
       "'mumbai'"
      ]
     },
     "execution_count": 15,
     "metadata": {},
     "output_type": "execute_result"
    }
   ],
   "source": [
    "my_new_list [0] "
   ]
  },
  {
   "cell_type": "code",
   "execution_count": 16,
   "id": "2beea655",
   "metadata": {},
   "outputs": [],
   "source": [
    "my_new_list [0] = \"delhi\""
   ]
  },
  {
   "cell_type": "code",
   "execution_count": 17,
   "id": "d6fb87cc",
   "metadata": {},
   "outputs": [
    {
     "data": {
      "text/plain": [
       "['delhi', 'solapur', 'pune']"
      ]
     },
     "execution_count": 17,
     "metadata": {},
     "output_type": "execute_result"
    }
   ],
   "source": [
    "my_new_list"
   ]
  },
  {
   "cell_type": "code",
   "execution_count": 18,
   "id": "427e2127",
   "metadata": {},
   "outputs": [
    {
     "data": {
      "text/plain": [
       "{'India', 'US'}"
      ]
     },
     "execution_count": 18,
     "metadata": {},
     "output_type": "execute_result"
    }
   ],
   "source": [
    "country_set = {\"India\", \"US\", \"US\", \"India\"}\n",
    "country_set   #set has only two elements \"India\" and \"US\""
   ]
  },
  {
   "cell_type": "code",
   "execution_count": 20,
   "id": "36e1ce1e",
   "metadata": {},
   "outputs": [
    {
     "data": {
      "text/plain": [
       "{'China', 'India', 'UK', 'US'}"
      ]
     },
     "execution_count": 20,
     "metadata": {},
     "output_type": "execute_result"
    }
   ],
   "source": [
    "country_set.add('China')\n",
    "country_set  #set has three elements \"India\" ,\"US\" & \"UK\""
   ]
  },
  {
   "cell_type": "code",
   "execution_count": 21,
   "id": "4dca40ce",
   "metadata": {},
   "outputs": [
    {
     "data": {
      "text/plain": [
       "{'India', 'UK', 'US'}"
      ]
     },
     "execution_count": 21,
     "metadata": {},
     "output_type": "execute_result"
    }
   ],
   "source": [
    "country_set.remove(\"China\")  # remove \n",
    "country_set  #set has only two elements \"India\" and \"US\""
   ]
  },
  {
   "cell_type": "code",
   "execution_count": 22,
   "id": "d6213cf1",
   "metadata": {},
   "outputs": [
    {
     "ename": "KeyError",
     "evalue": "'China'",
     "output_type": "error",
     "traceback": [
      "\u001b[1;31m---------------------------------------------------------------------------\u001b[0m",
      "\u001b[1;31mKeyError\u001b[0m                                  Traceback (most recent call last)",
      "Cell \u001b[1;32mIn[22], line 1\u001b[0m\n\u001b[1;32m----> 1\u001b[0m country_set\u001b[38;5;241m.\u001b[39mremove(\u001b[38;5;124m\"\u001b[39m\u001b[38;5;124mChina\u001b[39m\u001b[38;5;124m\"\u001b[39m)\n",
      "\u001b[1;31mKeyError\u001b[0m: 'China'"
     ]
    }
   ],
   "source": [
    "country_set.remove(\"China\") "
   ]
  },
  {
   "cell_type": "code",
   "execution_count": 23,
   "id": "3cae88a4",
   "metadata": {},
   "outputs": [],
   "source": [
    "country_set.discard(\"China\")"
   ]
  },
  {
   "cell_type": "code",
   "execution_count": 24,
   "id": "317398cb",
   "metadata": {},
   "outputs": [],
   "source": [
    "country_set.discard(\"UK\")"
   ]
  },
  {
   "cell_type": "code",
   "execution_count": 25,
   "id": "4cf0cab0",
   "metadata": {},
   "outputs": [
    {
     "data": {
      "text/plain": [
       "{'India', 'US'}"
      ]
     },
     "execution_count": 25,
     "metadata": {},
     "output_type": "execute_result"
    }
   ],
   "source": [
    "country_set"
   ]
  },
  {
   "cell_type": "code",
   "execution_count": 26,
   "id": "20f58867",
   "metadata": {},
   "outputs": [],
   "source": [
    "test_set = {1, 2, 3, 4, 5}"
   ]
  },
  {
   "cell_type": "code",
   "execution_count": 27,
   "id": "83ca4cf0",
   "metadata": {},
   "outputs": [
    {
     "data": {
      "text/plain": [
       "{1, 2, 3, 4, 5}"
      ]
     },
     "execution_count": 27,
     "metadata": {},
     "output_type": "execute_result"
    }
   ],
   "source": [
    "test_set"
   ]
  },
  {
   "cell_type": "code",
   "execution_count": 28,
   "id": "315b7510",
   "metadata": {},
   "outputs": [
    {
     "data": {
      "text/plain": [
       "{2, 3, 4, 5}"
      ]
     },
     "execution_count": 28,
     "metadata": {},
     "output_type": "execute_result"
    }
   ],
   "source": [
    "test_set.pop()   # removes first element from set i.e. 1\n",
    "test_set"
   ]
  },
  {
   "cell_type": "code",
   "execution_count": 29,
   "id": "af5b53d0",
   "metadata": {},
   "outputs": [
    {
     "ename": "TypeError",
     "evalue": "set.pop() takes no arguments (1 given)",
     "output_type": "error",
     "traceback": [
      "\u001b[1;31m---------------------------------------------------------------------------\u001b[0m",
      "\u001b[1;31mTypeError\u001b[0m                                 Traceback (most recent call last)",
      "Cell \u001b[1;32mIn[29], line 1\u001b[0m\n\u001b[1;32m----> 1\u001b[0m test_set\u001b[38;5;241m.\u001b[39mpop(\u001b[38;5;241m2\u001b[39m)   \u001b[38;5;66;03m# removes first element from set i.e. 1\u001b[39;00m\n\u001b[0;32m      2\u001b[0m test_set\n",
      "\u001b[1;31mTypeError\u001b[0m: set.pop() takes no arguments (1 given)"
     ]
    }
   ],
   "source": [
    "test_set.pop(2)   # removes first element from set i.e. 1\n",
    "test_set"
   ]
  },
  {
   "cell_type": "code",
   "execution_count": 30,
   "id": "730b43d6",
   "metadata": {},
   "outputs": [
    {
     "data": {
      "text/plain": [
       "set()"
      ]
     },
     "execution_count": 30,
     "metadata": {},
     "output_type": "execute_result"
    }
   ],
   "source": [
    "test_set.clear()\n",
    "test_set"
   ]
  },
  {
   "cell_type": "code",
   "execution_count": 31,
   "id": "e64d481a",
   "metadata": {},
   "outputs": [
    {
     "data": {
      "text/plain": [
       "True"
      ]
     },
     "execution_count": 31,
     "metadata": {},
     "output_type": "execute_result"
    }
   ],
   "source": [
    "\"India\" in country_set"
   ]
  },
  {
   "cell_type": "code",
   "execution_count": 32,
   "id": "2d5e1f6b",
   "metadata": {},
   "outputs": [
    {
     "data": {
      "text/plain": [
       "False"
      ]
     },
     "execution_count": 32,
     "metadata": {},
     "output_type": "execute_result"
    }
   ],
   "source": [
    "\"India\" not in country_set"
   ]
  },
  {
   "cell_type": "code",
   "execution_count": 33,
   "id": "2f8d39d7",
   "metadata": {},
   "outputs": [],
   "source": [
    "maharashtra_cities = {\"Pune\", \"Mumbai\", \"Nagpur\"}\n",
    "goa_cities = {\"Panjim\", \"Vasco\", \"Madgaon\"}\n",
    "western_region_cities = {\"Panjim\", \"Vasco\", \"Pune\", \"Mumbai\", \"Nagpur\"}"
   ]
  },
  {
   "cell_type": "code",
   "execution_count": 34,
   "id": "467a1187",
   "metadata": {},
   "outputs": [
    {
     "data": {
      "text/plain": [
       "{'Mumbai', 'Nagpur', 'Pune'}"
      ]
     },
     "execution_count": 34,
     "metadata": {},
     "output_type": "execute_result"
    }
   ],
   "source": [
    "maharashtra_cities & western_region_cities  # common cities between two sets"
   ]
  },
  {
   "cell_type": "code",
   "execution_count": 35,
   "id": "91a7f405",
   "metadata": {},
   "outputs": [
    {
     "data": {
      "text/plain": [
       "{'Mumbai', 'Nagpur', 'Pune'}"
      ]
     },
     "execution_count": 35,
     "metadata": {},
     "output_type": "execute_result"
    }
   ],
   "source": [
    "western_region_cities  & maharashtra_cities"
   ]
  },
  {
   "cell_type": "code",
   "execution_count": 36,
   "id": "067e735e",
   "metadata": {},
   "outputs": [
    {
     "data": {
      "text/plain": [
       "set()"
      ]
     },
     "execution_count": 36,
     "metadata": {},
     "output_type": "execute_result"
    }
   ],
   "source": [
    "maharashtra_cities & goa_cities  # common cities between two sets, nothing common"
   ]
  },
  {
   "cell_type": "code",
   "execution_count": 37,
   "id": "8346f77c",
   "metadata": {},
   "outputs": [
    {
     "data": {
      "text/plain": [
       "{'Mumbai', 'Nagpur', 'Pune'}"
      ]
     },
     "execution_count": 37,
     "metadata": {},
     "output_type": "execute_result"
    }
   ],
   "source": [
    "western_region_cities.intersection(maharashtra_cities)"
   ]
  },
  {
   "cell_type": "code",
   "execution_count": 38,
   "id": "3ead60b7",
   "metadata": {},
   "outputs": [
    {
     "data": {
      "text/plain": [
       "{'Panjim', 'Vasco'}"
      ]
     },
     "execution_count": 38,
     "metadata": {},
     "output_type": "execute_result"
    }
   ],
   "source": [
    "western_region_cities.intersection(goa_cities)"
   ]
  },
  {
   "cell_type": "code",
   "execution_count": 39,
   "id": "75e28c6f",
   "metadata": {},
   "outputs": [
    {
     "data": {
      "text/plain": [
       "{'Panjim', 'Vasco'}"
      ]
     },
     "execution_count": 39,
     "metadata": {},
     "output_type": "execute_result"
    }
   ],
   "source": [
    "western_region_cities - maharashtra_cities "
   ]
  },
  {
   "cell_type": "code",
   "execution_count": 40,
   "id": "913beb3b",
   "metadata": {},
   "outputs": [
    {
     "data": {
      "text/plain": [
       "{'Mumbai', 'Nagpur', 'Pune'}"
      ]
     },
     "execution_count": 40,
     "metadata": {},
     "output_type": "execute_result"
    }
   ],
   "source": [
    "western_region_cities - goa_cities"
   ]
  },
  {
   "cell_type": "code",
   "execution_count": 41,
   "id": "ce5da1e7",
   "metadata": {},
   "outputs": [
    {
     "data": {
      "text/plain": [
       "{'Panjim', 'Vasco'}"
      ]
     },
     "execution_count": 41,
     "metadata": {},
     "output_type": "execute_result"
    }
   ],
   "source": [
    "western_region_cities.difference(maharashtra_cities)"
   ]
  },
  {
   "cell_type": "code",
   "execution_count": 43,
   "id": "e269407a",
   "metadata": {},
   "outputs": [
    {
     "data": {
      "text/plain": [
       "{'Mumbai', 'Nagpur', 'Pune'}"
      ]
     },
     "execution_count": 43,
     "metadata": {},
     "output_type": "execute_result"
    }
   ],
   "source": [
    "western_region_cities.difference(goa_cities)"
   ]
  },
  {
   "cell_type": "code",
   "execution_count": 44,
   "id": "541b64bd",
   "metadata": {},
   "outputs": [
    {
     "data": {
      "text/plain": [
       "{'Mumbai', 'Nagpur', 'Panjim', 'Pune', 'Vasco'}"
      ]
     },
     "execution_count": 44,
     "metadata": {},
     "output_type": "execute_result"
    }
   ],
   "source": [
    "maharashtra_cities | western_region_cities  # all cities between two sets"
   ]
  },
  {
   "cell_type": "code",
   "execution_count": 45,
   "id": "c2b74448",
   "metadata": {},
   "outputs": [
    {
     "data": {
      "text/plain": [
       "{'Madgaon', 'Mumbai', 'Nagpur', 'Panjim', 'Pune', 'Vasco'}"
      ]
     },
     "execution_count": 45,
     "metadata": {},
     "output_type": "execute_result"
    }
   ],
   "source": [
    "maharashtra_cities |  goa_cities"
   ]
  },
  {
   "cell_type": "code",
   "execution_count": 46,
   "id": "7e371d07",
   "metadata": {},
   "outputs": [
    {
     "data": {
      "text/plain": [
       "{'Madgaon', 'Mumbai', 'Nagpur', 'Panjim', 'Pune', 'Vasco'}"
      ]
     },
     "execution_count": 46,
     "metadata": {},
     "output_type": "execute_result"
    }
   ],
   "source": [
    "maharashtra_cities.union(goa_cities)"
   ]
  },
  {
   "cell_type": "code",
   "execution_count": 48,
   "id": "3639329e",
   "metadata": {},
   "outputs": [
    {
     "name": "stdout",
     "output_type": "stream",
     "text": [
      "All languages     {'python', 'c', 'r', 'java', 'c++'}\n",
      "\n",
      "Data Science languages count    2\n",
      "\n",
      "Languages which are not data science languages     {'c', 'java', 'c++'}\n",
      "\n",
      "languages which are both programming language and data science languages     {'python'}\n",
      "\n",
      "Only data science languages     {'r'}\n",
      "\n"
     ]
    }
   ],
   "source": [
    "languages = {'python', 'java', 'c', 'c++'}\n",
    "ds_languages = {\"python\", 'r'}\n",
    "\n",
    "#(a) What are all programming languages are available?\n",
    "print(\"All languages    \" , languages | ds_languages)\n",
    "print()\n",
    "\n",
    "#(b) How many data science languages are available?\n",
    "print(\"Data Science languages count   \" , len(ds_languages))\n",
    "print()\n",
    "\n",
    "#(c) List languages which are not data science languages?\n",
    "print(\"Languages which are not data science languages    \" , languages - ds_languages)\n",
    "print()\n",
    "\n",
    "#(d) List languages which are both programming language and data science languages.\n",
    "print(\"languages which are both programming language and data science languages    \" , languages & ds_languages)\n",
    "print()\n",
    "\n",
    "\n",
    "#(e) List languges which are only data science languages.\n",
    "print(\"Only data science languages    \" , ds_languages - languages)\n",
    "print()"
   ]
  },
  {
   "cell_type": "code",
   "execution_count": 49,
   "id": "1e018b1b",
   "metadata": {},
   "outputs": [
    {
     "data": {
      "text/plain": [
       "{'r'}"
      ]
     },
     "execution_count": 49,
     "metadata": {},
     "output_type": "execute_result"
    }
   ],
   "source": [
    "ds_languages - languages"
   ]
  },
  {
   "cell_type": "code",
   "execution_count": 50,
   "id": "0dbca70a",
   "metadata": {},
   "outputs": [
    {
     "data": {
      "text/plain": [
       "{'c', 'c++', 'java'}"
      ]
     },
     "execution_count": 50,
     "metadata": {},
     "output_type": "execute_result"
    }
   ],
   "source": [
    "languages - ds_languages"
   ]
  },
  {
   "cell_type": "code",
   "execution_count": 51,
   "id": "096e4fd2",
   "metadata": {},
   "outputs": [],
   "source": [
    "MY_STRING = \" JASHMIN\"\n",
    "STRING_SET = set(MY_STRING)"
   ]
  },
  {
   "cell_type": "code",
   "execution_count": 52,
   "id": "716a8b39",
   "metadata": {},
   "outputs": [
    {
     "data": {
      "text/plain": [
       "{' ', 'A', 'H', 'I', 'J', 'M', 'N', 'S'}"
      ]
     },
     "execution_count": 52,
     "metadata": {},
     "output_type": "execute_result"
    }
   ],
   "source": [
    "STRING_SET"
   ]
  },
  {
   "cell_type": "code",
   "execution_count": 53,
   "id": "1efc7e37",
   "metadata": {},
   "outputs": [
    {
     "name": "stdout",
     "output_type": "stream",
     "text": [
      "python\n",
      "java\n",
      "c\n",
      "c++\n"
     ]
    }
   ],
   "source": [
    "for i in languages:\n",
    "    print(i)"
   ]
  },
  {
   "cell_type": "code",
   "execution_count": 54,
   "id": "6d274ea4",
   "metadata": {},
   "outputs": [],
   "source": [
    "set1 = {1,2,3,4,5,6,7,1,2,3,4}"
   ]
  },
  {
   "cell_type": "code",
   "execution_count": 55,
   "id": "3b569827",
   "metadata": {},
   "outputs": [
    {
     "name": "stdout",
     "output_type": "stream",
     "text": [
      "1\n",
      "2\n",
      "3\n",
      "4\n",
      "5\n",
      "6\n",
      "7\n"
     ]
    }
   ],
   "source": [
    "for i in set1:\n",
    "    print(i)"
   ]
  },
  {
   "cell_type": "code",
   "execution_count": null,
   "id": "872e2b70",
   "metadata": {},
   "outputs": [],
   "source": []
  }
 ],
 "metadata": {
  "kernelspec": {
   "display_name": "Python 3 (ipykernel)",
   "language": "python",
   "name": "python3"
  },
  "language_info": {
   "codemirror_mode": {
    "name": "ipython",
    "version": 3
   },
   "file_extension": ".py",
   "mimetype": "text/x-python",
   "name": "python",
   "nbconvert_exporter": "python",
   "pygments_lexer": "ipython3",
   "version": "3.11.5"
  }
 },
 "nbformat": 4,
 "nbformat_minor": 5
}
